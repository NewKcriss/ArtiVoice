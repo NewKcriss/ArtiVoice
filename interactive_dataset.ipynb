{
 "cells": [
  {
   "cell_type": "code",
   "execution_count": null,
   "id": "9735c2fd",
   "metadata": {},
   "outputs": [],
   "source": [
    "import pandas as pd\n",
    "import itertools\n",
    "import numpy as np\n",
    "import qgrid\n",
    "\n",
    "# 定义每一列的所有可能值\n",
    "values = {\n",
    "    'pitch': range(1, 6),\n",
    "    'speed': range(1, 6),\n",
    "    'energy': range(1, 6),\n",
    "    'glottalization': range(1, 7),\n",
    "    'tenseness': range(1, 9),\n",
    "    'resonance': range(1, 6)\n",
    "}\n",
    "\n",
    "# 生成所有可能的组合\n",
    "combinations = list(itertools.product(*values.values()))\n",
    "\n",
    "# 创建数据框\n",
    "df = pd.DataFrame(combinations, columns=values.keys())\n",
    "\n",
    "# 定义一个函数来计算欧氏距离\n",
    "def euclidean_distance(row):\n",
    "    center = [3, 3, 3, 3, 3, 3]\n",
    "    return np.sqrt(np.sum((np.array(row) - np.array(center)) ** 2))\n",
    "\n",
    "# 计算每个组合的欧氏距离\n",
    "df['distance'] = df.apply(euclidean_distance, axis=1)\n",
    "\n",
    "# 根据欧氏距离排序\n",
    "df = df.sort_values(by='distance')\n",
    "\n",
    "# 删除距离列\n",
    "df = df.drop(columns=['distance'])\n",
    "\n",
    "# 显示数据框\n",
    "qgrid_widget = qgrid.show_grid(df, show_toolbar=True)\n",
    "qgrid_widget\n"
   ]
  }
 ],
 "metadata": {
  "kernelspec": {
   "display_name": "Python 3",
   "language": "python",
   "name": "python3"
  },
  "language_info": {
   "codemirror_mode": {
    "name": "ipython",
    "version": 3
   },
   "file_extension": ".py",
   "mimetype": "text/x-python",
   "name": "python",
   "nbconvert_exporter": "python",
   "pygments_lexer": "ipython3",
   "version": "3.8.8"
  }
 },
 "nbformat": 4,
 "nbformat_minor": 5
}
