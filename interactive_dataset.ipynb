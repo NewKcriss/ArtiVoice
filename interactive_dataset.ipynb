{
 "cells": [
  {
   "cell_type": "code",
   "execution_count": null,
   "id": "9735c2fd",
   "metadata": {},
   "outputs": [],
   "source": [
    "import itertools\n",
    "\n",
    "# 定义每一列的可能值\n",
    "pitch_values = list(range(1, 6))\n",
    "speed_values = list(range(1, 6))\n",
    "energy_values = list(range(1, 6))\n",
    "glottalization_values = ['1-breathy_voice', '2-slack_voice', '3-modal_voice', '4-stiff_voice', '5-creaky_voice']\n",
    "tenseness_values = ['1-laxest_articulated', '2-lax_articulated', '3-moderate_articulated', '4-tense_articulated', '5-tensest_articulated']\n",
    "resonance_values = ['1-chest_voice', '2-epiglottal_voice', '3-guttural_voice', '4-oral_voice', '5-pharyngeal_voice', '6_nasal_voice', '7-head_voice', '8-mix_voice']\n",
    "\n",
    "# 创建一个空的列表来存储所有满足条件的组合\n",
    "combinations = []\n",
    "\n",
    "# 使用 itertools.product 来生成所有可能的组合\n",
    "for combination in itertools.product(pitch_values, speed_values, energy_values, glottalization_values, tenseness_values, resonance_values):\n",
    "    pitch, speed, energy, glottalization, tenseness, resonance = combination\n",
    "    \n",
    "    # 检查每一个组合是否满足你的条件\n",
    "    if pitch == 1 and resonance in ['4-oral_voice', '5-pharyngeal_voice', '6_nasal_voice', '7-head_voice', '8-mix_voice']:\n",
    "        continue\n",
    "    if pitch == 2 and resonance in ['5-pharyngeal_voice', '6_nasal_voice', '7-head_voice', '8-mix_voice']:\n",
    "        continue\n",
    "    if pitch == 5 and resonance in ['1-chest_voice', '2-epiglottal_voice', '3-guttural_voice', '4-oral_voice']:\n",
    "        continue\n",
    "    if pitch == 1 and energy == 5:\n",
    "        continue\n",
    "    if speed == 5 and tenseness == '5-tensest_articulated':\n",
    "        continue\n",
    "    if energy == 4 and resonance == '2-epiglottal_voice':\n",
    "        continue\n",
    "    if energy == 5 and resonance in ['2-epiglottal_voice', '3-guttural_voice']:\n",
    "        continue\n",
    "    if glottalization == '1-breathy_voice' and resonance in ['7-head_voice', '8-mix_voice']:\n",
    "        continue\n",
    "    \n",
    "    # 如果组合满足所有的条件，将它添加到列表中\n",
    "    combinations.append(combination)\n",
    "\n",
    "# 打印出所有满足条件的组合\n",
    "for combination in combinations:\n",
    "    print(combination)\n"
   ]
  }
 ],
 "metadata": {
  "kernelspec": {
   "display_name": "Python 3",
   "language": "python",
   "name": "python3"
  },
  "language_info": {
   "codemirror_mode": {
    "name": "ipython",
    "version": 3
   },
   "file_extension": ".py",
   "mimetype": "text/x-python",
   "name": "python",
   "nbconvert_exporter": "python",
   "pygments_lexer": "ipython3",
   "version": "3.8.8"
  }
 },
 "nbformat": 4,
 "nbformat_minor": 5
}
