# 在Jupyter Notebook中，这段代码应该在一个单独的代码单元格中
import pandas as pd
import itertools
import numpy as np
import qgrid

# 定义每一列的所有可能值
values = {
    'pitch': range(1, 6),
    'speed': range(1, 6),
    'energy': range(1, 6),
    'glottalization': range(1, 7),
    'tenseness': range(1, 9),
    'resonance': range(1, 6)
}

# 生成所有可能的组合
combinations = list(itertools.product(*values.values()))

# 创建数据框
df = pd.DataFrame(combinations, columns=values.keys())

# 定义一个函数来计算欧氏距离
def euclidean_distance(row):
    center = [3, 3, 3, 3, 3, 3]
    return np.sqrt(np.sum((np.array(row) - np.array(center)) ** 2))

# 计算每个组合的欧氏距离
df['distance'] = df.apply(euclidean_distance, axis=1)

# 根据欧氏距离排序
df = df.sort_values(by='distance')

# 删除距离列
df = df.drop(columns=['distance'])

# 显示数据框
qgrid_widget = qgrid.show_grid(df, show_toolbar=True)
qgrid_widget
